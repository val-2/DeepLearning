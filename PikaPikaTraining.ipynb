{
    "cells": [
        {
            "cell_type": "markdown",
            "metadata": {},
            "source": [
                "# PikaPikaGen: Training del Modello\n",
                "\n",
                "Questo notebook automatizza il processo di setup e avvio del training per il modello PikaPikaGen.\n",
                "\n",
                "I passaggi eseguiti sono:\n",
                "1.  Clonazione del repository GitHub pubblico.\n",
                "2.  Installazione delle dipendenze necessarie tramite `uv`.\n",
                "3.  Esecuzione dello script di training `main.py`."
            ]
        },
        {
            "cell_type": "code",
            "execution_count": null,
            "metadata": {},
            "outputs": [],
            "source": [
                "import os\n",
                "\n",
                "repo_url = \"https://github.com/val-2/DeepLearning\"\n",
                "repo_name = repo_url.split('/')[-1]\n",
                "\n",
                "print(f\"Clonazione del repository: {repo_url}\")\n",
                "# Clona il repository se non è già presente\n",
                "if not os.path.exists(repo_name):\n",
                "    !git clone {repo_url}\n",
                "else:\n",
                "    print(f\"La directory '{repo_name}' esiste già. Salto la clonazione.\")\n",
                "\n",
                "# Spostati nella directory del repository\n",
                "os.chdir(repo_name)\n",
                "print(f\"Directory di lavoro corrente: {os.getcwd()}\")"
            ]
        },
        {
            "cell_type": "code",
            "execution_count": null,
            "metadata": {},
            "outputs": [],
            "source": [
                "print(\"Installazione delle dipendenze necessarie...\")\n",
                "\n",
                "# Assicurati che uv sia installato\n",
                "\n",
                "%pip install uv\n",
                "print(\"✅ uv installato con successo.\")\n",
                "\n",
                "# Lista delle dipendenze principali del progetto (escludi torch, che installiamo separatamente)\n",
                "dependencies = [\n",
                "    \"torch\",\n",
                "    \"torchvision\",\n",
                "    \"transformers\",\n",
                "    \"pandas\",\n",
                "    \"tqdm\",\n",
                "    \"matplotlib\",\n",
                "    \"Pillow\",\n",
                "    \"requests\",\n",
                "    \"ipywidgets\"\n",
                "]\n",
                "\n",
                "print(\"Installazione delle dipendenze con uv...\")\n",
                "deps_str = \" \".join(dependencies)\n",
                "!uv pip install {deps_str} --torch-backend=auto\n",
                "print(\"✅ Dipendenze principali installate con successo.\")\n"
            ]
        },
        {
            "cell_type": "code",
            "execution_count": null,
            "metadata": {},
            "outputs": [],
            "source": [
                "print(\"Avvio dello script di training 'main.py'...\")\n",
                "# Esegui lo script di training\n",
                "# Usare %run è preferibile in Jupyter/IPython perché esegue lo script\n",
                "# nello stesso processo del kernel, mantenendo le variabili accessibili.\n",
                "%run pikapikagen/main.py"
            ]
        }
    ],
    "metadata": {
        "kernelspec": {
            "display_name": "Python 3",
            "language": "python",
            "name": "python3"
        },
        "language_info": {
            "name": "python",
            "version": "3.9.1"
        }
    },
    "nbformat": 4,
    "nbformat_minor": 2
}
