{
    "cells": [
        {
            "cell_type": "markdown",
            "metadata": {},
            "source": [
                "# PikaPikaGen: Model training\n",
                "\n",
                "This notebook automates the setup and training process for the PikaPikaGen model.\n",
                "\n",
                "The steps performed are:\n",
                "1.  Cloning the public GitHub repository.\n",
                "2.  Installing necessary dependencies via `uv`.\n",
                "3.  Running the training script `main.py`."
            ]
        },
        {
            "cell_type": "code",
            "execution_count": null,
            "metadata": {},
            "outputs": [],
            "source": [
                "print(\"Installing necessary dependencies...\")\n",
                "\n",
                "# Ensure uv is installed\n",
                "%pip install uv\n",
                "print(\"✅ uv installed successfully.\")\n",
                "\n",
                "# Check if torch is already installed\n",
                "try:\n",
                "    import torch\n",
                "    print(f\"✅ PyTorch already installed (version: {torch.__version__})\")\n",
                "    torch_installed = True\n",
                "except ImportError:\n",
                "    print(\"❌ PyTorch not found, it will be installed\")\n",
                "    torch_installed = False\n",
                "\n",
                "dependencies = [\n",
                "    \"transformers\",\n",
                "    \"pandas\",\n",
                "    \"tqdm\",\n",
                "    \"matplotlib\",\n",
                "    \"Pillow\",\n",
                "    \"requests\",\n",
                "    \"ipywidgets\"\n",
                "]\n",
                "\n",
                "# Add torch and torchvision only if they are not already installed\n",
                "if not torch_installed:\n",
                "    dependencies.extend([\"torch\", \"torchvision\"])\n",
                "\n",
                "print(\"Installing dependencies with uv...\")\n",
                "deps_str = \" \".join(dependencies)\n",
                "if torch_installed:\n",
                "    !uv pip install {deps_str}\n",
                "else:\n",
                "    !uv pip install {deps_str} --torch-backend=auto\n",
                "print(\"✅ Main dependencies installed successfully.\")\n"
            ]
        },
        {
            "cell_type": "code",
            "execution_count": null,
            "metadata": {},
            "outputs": [],
            "source": [
                "import os\n",
                "\n",
                "repo_url = \"https://github.com/val-2/DeepLearning\"\n",
                "branch = \"main\"\n",
                "repo_name = repo_url.split('/')[-1]\n",
                "\n",
                "print(f\"Clonazione del repository: {repo_url}\")\n",
                "\n",
                "# Check if we're already in the repo directory\n",
                "current_dir = os.path.basename(os.getcwd())\n",
                "if current_dir == repo_name:\n",
                "    print(f\"Already in the repository directory '{repo_name}'. Updating...\")\n",
                "    !git fetch\n",
                "    !git pull\n",
                "    !git checkout {branch}\n",
                "elif os.path.exists(repo_name):\n",
                "    print(f\"The directory '{repo_name}' already exists. Updating the repository...\")\n",
                "    os.chdir(repo_name)\n",
                "    !git fetch\n",
                "    !git pull\n",
                "    !git checkout {branch}\n",
                "else:\n",
                "    print(\"Cloning repository...\")\n",
                "    !git clone -b {branch} {repo_url}\n",
                "    os.chdir(repo_name)\n",
                "\n",
                "# Move to the repository directory\n",
                "print(f\"Current working directory: {os.getcwd()}\")"
            ]
        }
    ],
    "metadata": {
        "kernelspec": {
            "display_name": ".venv",
            "language": "python",
            "name": "python3"
        },
        "language_info": {
            "name": "python",
            "version": "3.12.11"
        }
    },
    "nbformat": 4,
    "nbformat_minor": 2
}
